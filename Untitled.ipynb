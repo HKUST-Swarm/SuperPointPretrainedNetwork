{
 "cells": [
  {
   "cell_type": "code",
   "execution_count": 35,
   "metadata": {},
   "outputs": [],
   "source": [
    "import argparse\n",
    "import glob\n",
    "import numpy as np\n",
    "import os\n",
    "import time\n",
    "\n",
    "import cv2\n",
    "import torch\n",
    "class SuperPointNet(torch.nn.Module):\n",
    "    \"\"\" Pytorch definition of SuperPoint Network. \"\"\"\n",
    "    def __init__(self):\n",
    "        super(SuperPointNet, self).__init__()\n",
    "        self.relu = torch.nn.ReLU(inplace=True)\n",
    "        self.pool = torch.nn.MaxPool2d(kernel_size=2, stride=2)\n",
    "        c1, c2, c3, c4, c5, d1 = 64, 64, 128, 128, 256, 256\n",
    "        # Shared Encoder.\n",
    "        self.conv1a = torch.nn.Conv2d(1, c1, kernel_size=3, stride=1, padding=1)\n",
    "        self.conv1b = torch.nn.Conv2d(c1, c1, kernel_size=3, stride=1, padding=1)\n",
    "        self.conv2a = torch.nn.Conv2d(c1, c2, kernel_size=3, stride=1, padding=1)\n",
    "        self.conv2b = torch.nn.Conv2d(c2, c2, kernel_size=3, stride=1, padding=1)\n",
    "        self.conv3a = torch.nn.Conv2d(c2, c3, kernel_size=3, stride=1, padding=1)\n",
    "        self.conv3b = torch.nn.Conv2d(c3, c3, kernel_size=3, stride=1, padding=1)\n",
    "        self.conv4a = torch.nn.Conv2d(c3, c4, kernel_size=3, stride=1, padding=1)\n",
    "        self.conv4b = torch.nn.Conv2d(c4, c4, kernel_size=3, stride=1, padding=1)\n",
    "        # Detector Head.\n",
    "        self.convPa = torch.nn.Conv2d(c4, c5, kernel_size=3, stride=1, padding=1)\n",
    "        self.convPb = torch.nn.Conv2d(c5, 65, kernel_size=1, stride=1, padding=0)\n",
    "        # Descriptor Head.\n",
    "        self.convDa = torch.nn.Conv2d(c4, c5, kernel_size=3, stride=1, padding=1)\n",
    "        self.convDb = torch.nn.Conv2d(c5, d1, kernel_size=1, stride=1, padding=0)\n",
    "\n",
    "    def forward(self, x):\n",
    "        \"\"\" Forward pass that jointly computes unprocessed point and descriptor\n",
    "        tensors.\n",
    "        Input\n",
    "          x: Image pytorch tensor shaped N x 1 x H x W.\n",
    "        Output\n",
    "          semi: Output point pytorch tensor shaped N x 65 x H/8 x W/8.\n",
    "          desc: Output descriptor pytorch tensor shaped N x 256 x H/8 x W/8.\n",
    "        \"\"\"\n",
    "        # Shared Encoder.\n",
    "        x = self.relu(self.conv1a(x))\n",
    "        x = self.relu(self.conv1b(x))\n",
    "        x = self.pool(x)\n",
    "        x = self.relu(self.conv2a(x))\n",
    "        x = self.relu(self.conv2b(x))\n",
    "        x = self.pool(x)\n",
    "        x = self.relu(self.conv3a(x))\n",
    "        x = self.relu(self.conv3b(x))\n",
    "        x = self.pool(x)\n",
    "        x = self.relu(self.conv4a(x))\n",
    "        x = self.relu(self.conv4b(x))\n",
    "        # Detector Head.\n",
    "        cPa = self.relu(self.convPa(x))\n",
    "        semi = self.convPb(cPa)\n",
    "        # Descriptor Head.\n",
    "        cDa = self.relu(self.convDa(x))\n",
    "        desc = self.convDb(cDa)\n",
    "        dn = torch.norm(desc, p=2, dim=1) # Compute the norm.\n",
    "        desc = desc.div(torch.unsqueeze(dn, 1)) # Divide by norm to normalize.\n",
    "        \n",
    "#         semi = torch::softmax(semi, 1);\n",
    "#         semi = semi.slice(1, 0, 64);\n",
    "#         semi = semi.permute({0, 2, 3, 1});  // [B, H/8, W/8, 64]\n",
    "        semi = torch.softmax(semi, 1)\n",
    "        semi = semi.narrow(1, 0, 64)\n",
    "        semi = semi.permute((0, 2, 3, 1))\n",
    "\n",
    "#         int Hc = semi.size(1);\n",
    "#         int Wc = semi.size(2);\n",
    "#         semi = semi.contiguous().view({-1, Hc, Wc, 8, 8});\n",
    "#         semi = semi.permute({0, 1, 3, 2, 4});\n",
    "#         semi = semi.contiguous().view({-1, Hc * 8, Wc * 8});  // [B, H, W]\n",
    "        Hc = semi.size(1)\n",
    "        Wc = semi.size(2)\n",
    "        semi = semi.contiguous().view((-1, Hc, Wc, 8, 8))\n",
    "        semi = semi.permute((0, 1, 3, 2, 4))\n",
    "        semi = semi.contiguous().view((-1, Hc * 8, Wc * 8)) \n",
    "        \n",
    "        print(semi.size(), desc.size())\n",
    "        return semi, desc\n"
   ]
  },
  {
   "cell_type": "code",
   "execution_count": null,
   "metadata": {},
   "outputs": [],
   "source": [
    "model = SuperPointNet()\n",
    "model.load_state_dict(torch.load(\"superpoint_v1.pth\"))\n",
    "model.eval()\n",
    "x = torch.randn(1, 1, 208, 400, requires_grad=True)\n",
    "model(x)"
   ]
  },
  {
   "cell_type": "code",
   "execution_count": 37,
   "metadata": {},
   "outputs": [
    {
     "name": "stdout",
     "output_type": "stream",
     "text": [
      "torch.Size([1, 208, 400]) torch.Size([1, 256, 26, 50])\n"
     ]
    },
    {
     "name": "stderr",
     "output_type": "stream",
     "text": [
      "/home/xuhao/anaconda3/lib/python3.7/site-packages/ipykernel_launcher.py:80: TracerWarning: Converting a tensor to a Python integer might cause the trace to be incorrect. We can't record the data flow of Python values, so this value will be treated as a constant in the future. This means that the trace might not generalize to other inputs!\n"
     ]
    }
   ],
   "source": [
    "# Input to the model\n",
    "\n",
    "\n",
    "# Export the model\n",
    "torch.onnx.export(model,               # model being run\n",
    "                  x,                         # model input (or a tuple for multiple inputs)\n",
    "                  \"superpoint_v1.onnx\",   # where to save the model (can be a file or file-like object)\n",
    "                  export_params=True,        # store the trained parameter weights inside the model file\n",
    "                  opset_version=11,          # the ONNX version to export the model to\n",
    "                  do_constant_folding=True,  # whether to execute constant folding for optimization\n",
    "                  input_names = ['image'],   # the model's input names\n",
    "                  output_names = ['semi', \"desc\"]) # the model's output names\n"
   ]
  },
  {
   "cell_type": "code",
   "execution_count": null,
   "metadata": {},
   "outputs": [],
   "source": []
  }
 ],
 "metadata": {
  "kernelspec": {
   "display_name": "Python 3",
   "language": "python",
   "name": "python3"
  },
  "language_info": {
   "codemirror_mode": {
    "name": "ipython",
    "version": 3
   },
   "file_extension": ".py",
   "mimetype": "text/x-python",
   "name": "python",
   "nbconvert_exporter": "python",
   "pygments_lexer": "ipython3",
   "version": "3.7.4"
  }
 },
 "nbformat": 4,
 "nbformat_minor": 4
}
